{
 "cells": [
  {
   "cell_type": "markdown",
   "id": "7ef8bcdc-569e-4e4f-b202-39277d1affbc",
   "metadata": {},
   "source": [
    "# Data Science Tools and Ecosystem"
   ]
  },
  {
   "cell_type": "markdown",
   "id": "4bdd930f-706e-4f6e-a444-d7639d98c673",
   "metadata": {},
   "source": [
    "In this notebook, Data Science Tools and Ecosystem are summarized."
   ]
  },
  {
   "cell_type": "markdown",
   "id": "845a6d52-a578-4879-a40f-7200fa529165",
   "metadata": {},
   "source": [
    " **some of the key takeaways from the course**\n",
    " - Python\n",
    " - R\n",
    " - Git hub"
   ]
  },
  {
   "cell_type": "markdown",
   "id": "19971287-758e-4032-aee9-b35515d15b0d",
   "metadata": {},
   "source": [
    "#Some of the commonly used libraries used by Data Scientists include:\n",
    "1. first Python\n",
    "2. second R\n",
    "3. Scikit Java"
   ]
  },
  {
   "cell_type": "markdown",
   "id": "2d07821f-07af-47c7-abaa-cd7c14963598",
   "metadata": {},
   "source": [
    "#Some of the commonly used libraries used by Data Scientists include:\n",
    "\n",
    "1. first pandas\n",
    "2. numpy\n",
    "3. seaborn\n"
   ]
  },
  {
   "cell_type": "markdown",
   "id": "6e411a1f-6ffe-428f-aa13-0bcb0a54f18f",
   "metadata": {},
   "source": [
    "\n",
    "| Data Science Tools |\n",
    "|--------------------|\n",
    "| Jupyter Notebook  |\n",
    "| RStudio          |\n",
    "| Apache Zeppelin  |"
   ]
  },
  {
   "cell_type": "markdown",
   "id": "ee4acecb-ee57-4d73-97ee-546ff37d3b4f",
   "metadata": {},
   "source": [
    "### Below are a few examples of evaluating arithmetic expressions in Python."
   ]
  },
  {
   "cell_type": "code",
   "execution_count": 5,
   "id": "25eed8de-5a1a-4fd1-b9e7-9a90790f8326",
   "metadata": {},
   "outputs": [
    {
     "data": {
      "text/plain": [
       "17"
      ]
     },
     "execution_count": 5,
     "metadata": {},
     "output_type": "execute_result"
    }
   ],
   "source": [
    "(3*4)+5"
   ]
  },
  {
   "cell_type": "code",
   "execution_count": 6,
   "id": "21d467bb-0b36-4dfe-b29f-b8307060eda4",
   "metadata": {},
   "outputs": [
    {
     "data": {
      "text/plain": [
       "3.3333333333333335"
      ]
     },
     "execution_count": 6,
     "metadata": {},
     "output_type": "execute_result"
    }
   ],
   "source": [
    "200/60"
   ]
  },
  {
   "cell_type": "markdown",
   "id": "035f55f9-4a35-4adc-bf8b-62fe0eb22b63",
   "metadata": {},
   "source": [
    "## Author: HOANG THANH DAT"
   ]
  },
  {
   "cell_type": "code",
   "execution_count": null,
   "id": "246cd6ae-e7b0-4254-984c-8147037974aa",
   "metadata": {},
   "outputs": [],
   "source": []
  }
 ],
 "metadata": {
  "kernelspec": {
   "display_name": "Python 3 (ipykernel)",
   "language": "python",
   "name": "python3"
  },
  "language_info": {
   "codemirror_mode": {
    "name": "ipython",
    "version": 3
   },
   "file_extension": ".py",
   "mimetype": "text/x-python",
   "name": "python",
   "nbconvert_exporter": "python",
   "pygments_lexer": "ipython3",
   "version": "3.12.8"
  }
 },
 "nbformat": 4,
 "nbformat_minor": 5
}
